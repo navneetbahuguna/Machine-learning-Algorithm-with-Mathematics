{
 "cells": [
  {
   "cell_type": "markdown",
   "metadata": {},
   "source": [
    "#                                10 machine learning algorithms "
   ]
  },
  {
   "cell_type": "markdown",
   "metadata": {},
   "source": [
    "1. Logistic Regression\n",
    "2. Linear Regression\n",
    "3. KNN K-Nearest Neighbour\n",
    "4. Naive Bayes \n",
    "5. SVM Support vector Machine\n",
    "6. Decisiion Tree\n",
    "7. Random Forest\n",
    "8. PCA ( Principal Component Analysis)\n",
    "9. Ensemble\n",
    "10. K Means"
   ]
  },
  {
   "cell_type": "markdown",
   "metadata": {},
   "source": [
    "## 1. Logistic Regression\n",
    "\n",
    "* Supervised Learning Algorithm\n",
    "* Classification Technique\n",
    "* Separate data Linearly\n"
   ]
  },
  {
   "cell_type": "markdown",
   "metadata": {},
   "source": [
    "![drawing](4.jpg )\n"
   ]
  },
  {
   "cell_type": "markdown",
   "metadata": {},
   "source": [
    "![drawing](5.jpg )\n"
   ]
  },
  {
   "cell_type": "markdown",
   "metadata": {},
   "source": [
    "![drawing](6.jpg )\n"
   ]
  },
  {
   "cell_type": "markdown",
   "metadata": {},
   "source": [
    "#### there  are 4 case to explain how to calculate the error"
   ]
  },
  {
   "cell_type": "markdown",
   "metadata": {},
   "source": [
    "![drawing](7.jpg )\n"
   ]
  },
  {
   "cell_type": "markdown",
   "metadata": {},
   "source": [
    "![drawing](8.jpg )\n"
   ]
  },
  {
   "cell_type": "markdown",
   "metadata": {},
   "source": [
    "![drawing](9.jpg )\n",
    "9"
   ]
  },
  {
   "cell_type": "markdown",
   "metadata": {},
   "source": [
    "### Code in Python"
   ]
  },
  {
   "cell_type": "markdown",
   "metadata": {},
   "source": [
    "    from sklearn.linear_model import LogisticRegression\n",
    "    lreg=LogisticRegression()\n",
    "    lreg.fit(x_train,y_train)\n",
    "    pred=lreg.predict(x_test)\n",
    "    score=lreg.score(x_test,y_test)\n"
   ]
  },
  {
   "cell_type": "code",
   "execution_count": null,
   "metadata": {},
   "outputs": [],
   "source": []
  },
  {
   "cell_type": "code",
   "execution_count": null,
   "metadata": {},
   "outputs": [],
   "source": []
  },
  {
   "cell_type": "markdown",
   "metadata": {},
   "source": [
    "## 2. Linear Regression\n",
    "\n",
    "* Supervised Learning Algorithm\n",
    "* approach to modelling the relationship between a dependent variable and one or more independent variables.\n",
    "* y = mx + c\n",
    "   \n",
    "  y = Dependent variable\n",
    "  x = Independent variable\n",
    "  m = slope\n",
    "  c = error\n",
    "  "
   ]
  },
  {
   "cell_type": "markdown",
   "metadata": {},
   "source": [
    "![drawing](1.jpg )\n",
    "\n"
   ]
  },
  {
   "cell_type": "markdown",
   "metadata": {},
   "source": [
    "![drawing](2.jpg )\n"
   ]
  },
  {
   "cell_type": "markdown",
   "metadata": {},
   "source": [
    "![drawing](3.jpg )\n"
   ]
  },
  {
   "cell_type": "code",
   "execution_count": null,
   "metadata": {},
   "outputs": [],
   "source": []
  },
  {
   "cell_type": "markdown",
   "metadata": {},
   "source": [
    "## Code in python\n",
    "\n",
    "    from sklearn.linear_model import LinearRegression\n",
    "    re=LinearRegression()\n",
    "    re.fit(x_train,y_train)\n",
    "    pred=re.predict(x_test)\n",
    "\n",
    "    from sklearn import metrics\n",
    "    print('Mean absolute error', metrics.mean_absolute_error(y_test,pred))\n",
    "    print('root mean squared error', np.sqrt(metrics.mean_squared_error(y_test,pred)))"
   ]
  },
  {
   "cell_type": "markdown",
   "metadata": {},
   "source": [
    "## 3.KNN (K Nearest neighbour)\n",
    "\n",
    "* Lasy Learnner\n",
    "* Deterministic class using 'K' neighbour\n",
    "* we can use for best Prediction k = 1 as a Standard \n",
    "* Learning Time = 0\n",
    "* Best for CATEGORICAL Data set"
   ]
  },
  {
   "cell_type": "markdown",
   "metadata": {},
   "source": [
    "![drawing](13.jpg )\n",
    "13"
   ]
  },
  {
   "cell_type": "markdown",
   "metadata": {},
   "source": [
    "![drawing](14.jpg )\n",
    "14"
   ]
  },
  {
   "cell_type": "markdown",
   "metadata": {},
   "source": [
    "![drawing](16.jpg )\n",
    "16"
   ]
  },
  {
   "cell_type": "markdown",
   "metadata": {},
   "source": [
    "## code in python\n",
    "\n",
    "    knn=KNeighborsClassifier(n_neighbors=3)\n",
    "    knn.fit(x_train, y_train)\n",
    "    re=knn.predict(x_test)\n",
    "    print(pre)\n",
    "    sc=knn.score(x_train, y_train)"
   ]
  },
  {
   "cell_type": "markdown",
   "metadata": {},
   "source": [
    "## 4. Naive Bayes\n",
    "\n",
    "* Assumption : Feature Independent\n",
    "* probalistic\n",
    "* Given the result and find the Class\n",
    "* Best for Categorical data\n",
    "   eg.  good, very good, bad\n",
    "*  not used inn real valued"
   ]
  },
  {
   "cell_type": "code",
   "execution_count": null,
   "metadata": {},
   "outputs": [],
   "source": []
  },
  {
   "cell_type": "markdown",
   "metadata": {},
   "source": [
    "![drawing](17.jpg )\n",
    "17"
   ]
  },
  {
   "cell_type": "markdown",
   "metadata": {},
   "source": [
    "![drawing](18.jpg )\n",
    "18"
   ]
  },
  {
   "cell_type": "markdown",
   "metadata": {},
   "source": [
    "![drawing](19.jpg )\n",
    "19"
   ]
  },
  {
   "cell_type": "markdown",
   "metadata": {},
   "source": [
    "![drawing](20.jpg )\n",
    "20"
   ]
  },
  {
   "cell_type": "markdown",
   "metadata": {},
   "source": [
    "## python code\n",
    "\n",
    "    from sklearn.naive_bayes import GaussianNB, MultinomialNB\n",
    "    gnb= GaussianNB()\n",
    "    gnb.fit(x_train, y_train, )\n",
    "    pr=gnb.predict(x_test)\n",
    "    sc=gnb.score(x_train, y_train)\n"
   ]
  },
  {
   "cell_type": "markdown",
   "metadata": {},
   "source": [
    "## 5. SVM ( Support Vector machine )\n",
    "\n",
    "* Deterministic\n",
    "* Aim : Maximum margin\n",
    "* not support in multidimensional\n",
    "* Linearly separable ( basic assumption)\n",
    "* Best in small daata set"
   ]
  },
  {
   "cell_type": "markdown",
   "metadata": {},
   "source": [
    "![drawing](21.jpg )\n",
    "21"
   ]
  },
  {
   "cell_type": "markdown",
   "metadata": {},
   "source": [
    "![drawing](22.jpg )\n",
    "22"
   ]
  },
  {
   "cell_type": "markdown",
   "metadata": {},
   "source": [
    "![drawing](23.jpg )\n",
    "23"
   ]
  },
  {
   "cell_type": "markdown",
   "metadata": {},
   "source": [
    "* Kernel : \n",
    "   Linnear\n",
    "   RBF : Treat as a gaussion\n",
    "         Hyper parameter : sigma\n",
    "   Polynomial : non-Linear\n",
    "                number of Features rapidly increase\n",
    "                Expensive\n",
    "                Hyper parameter : c\n",
    "   Sigmoid : Binary Classification\n",
    "             Hyper parameter : c"
   ]
  },
  {
   "cell_type": "markdown",
   "metadata": {},
   "source": [
    "![drawing](24.jpg )\n",
    "24"
   ]
  },
  {
   "cell_type": "markdown",
   "metadata": {},
   "source": [
    "## code in python\n",
    "\n",
    "    from sklearn.svm import SVC\n",
    "    sv=SVC(kernel='poly', degree=4)\n",
    "    sv.fit(x_train, y_train)\n",
    "    pr=sv.predict(x_test)\n",
    "    sc=sv.score(x_train, y_train)\n",
    "\n",
    "    from sklearn.metrics import classification_report, confusion_matrix\n",
    "    print(classification_report(y_test, pr))\n",
    "    print(confusion_matrix(y_test, pr))"
   ]
  },
  {
   "cell_type": "markdown",
   "metadata": {},
   "source": [
    "## 6. Decision Tree\n",
    "\n",
    "* Structure : like ( if-else)\n",
    "* Overfitting\n",
    "* prone to outlier\n",
    "* Greedy Algorithm ( Fairly good solution )\n",
    "* Hyper Parameter : Depth of Tree\n",
    "* fast Solution but not good\n",
    "* Use fo Feature Importance"
   ]
  },
  {
   "cell_type": "markdown",
   "metadata": {},
   "source": [
    "![drawing](25.jpg )\n",
    "25"
   ]
  },
  {
   "cell_type": "markdown",
   "metadata": {},
   "source": [
    "![drawing](28.jpg )\n",
    "28"
   ]
  },
  {
   "cell_type": "markdown",
   "metadata": {},
   "source": [
    "![drawing](29.jpg )\n",
    "29"
   ]
  },
  {
   "cell_type": "markdown",
   "metadata": {},
   "source": [
    "## python code\n",
    "\n",
    "    from sklearn.tree import DecisionTreeClassifier\n",
    "    from sklearn.metrics import confusion_matrix, classification_report\n",
    "    dtc=DecisionTreeClassifier(criterion='gini')\n",
    "    dtc.fit(x_train, y_train)\n",
    "    pr=dtc.predict(x_test)\n",
    "    print(dtc.score(x_train, y_train))\n",
    "    print(classification_report(y_test, pr))\n",
    "    print(confusion_matrix(y_test, pr))"
   ]
  },
  {
   "cell_type": "markdown",
   "metadata": {},
   "source": [
    "## 7. Random Forest\n",
    "\n",
    "* Learning Style : Supervised\n",
    "* Classification/Regression\n",
    "* Easy to use and understand.\n",
    "* Can handle both categorical and numerical data\n",
    "* Increasing the Models Speed\n",
    "* Increasing the Predictive Power\n",
    "* simple and flexible"
   ]
  },
  {
   "cell_type": "markdown",
   "metadata": {},
   "source": [
    "![drawing](29.jpg )\n",
    "29"
   ]
  },
  {
   "cell_type": "markdown",
   "metadata": {},
   "source": [
    "## code \n",
    "\n",
    "    from sklearn.ensemble import RandomForestClassifier\n",
    "    rfc=RandomForestClassifier(criterion='gini')\n",
    "    rfc.fit(x_train, y_train)\n",
    "    pr2=rfc.predict(x_test)\n",
    "    print(rfc.score(x_train, y_train))\n",
    "    print(classification_report(y_test, pr2))\n",
    "    print(confusion_matrix(y_test, pr2))\n"
   ]
  },
  {
   "cell_type": "markdown",
   "metadata": {},
   "source": []
  },
  {
   "cell_type": "markdown",
   "metadata": {},
   "source": [
    "## 8. PCA Principal Component Analysis"
   ]
  },
  {
   "cell_type": "markdown",
   "metadata": {},
   "source": [
    "![drawing](30.jpg )\n",
    "30"
   ]
  },
  {
   "cell_type": "markdown",
   "metadata": {},
   "source": [
    "![drawing](31.jpg )\n"
   ]
  },
  {
   "cell_type": "markdown",
   "metadata": {},
   "source": [
    "![drawing](32.jpg )\n",
    "32"
   ]
  },
  {
   "cell_type": "markdown",
   "metadata": {},
   "source": [
    "![drawing](33.jpg )\n",
    "33"
   ]
  },
  {
   "cell_type": "markdown",
   "metadata": {},
   "source": [
    "## python code\n",
    " \n",
    "    from sklearn.decomposition import PCA\n",
    "    pca=PCA(n_components=2)\n",
    "    pca.fit(x_train)\n",
    "    x_train_pca=pca.transform(x_train)\n",
    "    x_test_pca=pca.transform(x_test)\n",
    "    #print(a())\n",
    "    main_data = pd.DataFrame(data = x_train_pca, columns=['principal component 1', 'principal component 2'])\n",
    "    main_data.head()"
   ]
  },
  {
   "cell_type": "markdown",
   "metadata": {},
   "source": [
    "## 9. Ensemble"
   ]
  },
  {
   "cell_type": "markdown",
   "metadata": {},
   "source": [
    "![drawing](35.jpg )\n",
    "35"
   ]
  },
  {
   "cell_type": "markdown",
   "metadata": {},
   "source": [
    "![drawing](36.jpg )\n"
   ]
  },
  {
   "cell_type": "markdown",
   "metadata": {},
   "source": [
    "![drawing](37.jpg )\n",
    "37"
   ]
  },
  {
   "cell_type": "markdown",
   "metadata": {},
   "source": [
    "## code inn python\n",
    "\n",
    "\n",
    "    from sklearn.ensemble import VotingClassifier\n",
    "    from sklearn.linear_model import LogisticRegression\n",
    "    from sklearn.svm import SVC\n",
    "    from sklearn.tree import DecisionTreeClassifier\n",
    "\n",
    "    lr = LogisticRegression()\n",
    "    svm = SVC(kernel = 'rbf')\n",
    "    dtc = DecisionTreeClassifier()\n",
    "\n",
    "    vc = VotingClassifier(estimators = [('Log Reg', lr), ('SVM', svm), ('tree', dtc)])\n",
    "    vc.fit(x_train, y_train)\n",
    "\n",
    "    pr3 = vc.predict(x_test)\n",
    "    print(vc.score(x_test, y_test))"
   ]
  },
  {
   "cell_type": "code",
   "execution_count": null,
   "metadata": {},
   "outputs": [],
   "source": []
  },
  {
   "cell_type": "markdown",
   "metadata": {},
   "source": [
    "## 10. Clustering"
   ]
  },
  {
   "cell_type": "markdown",
   "metadata": {},
   "source": [
    "![drawing](38.jpg )\n",
    "38"
   ]
  },
  {
   "cell_type": "markdown",
   "metadata": {},
   "source": [
    "![drawing](39.jpg )\n",
    "39"
   ]
  },
  {
   "cell_type": "markdown",
   "metadata": {},
   "source": [
    "## python code:\n",
    "\n",
    "    from sklearn.cluster import KMeans\n",
    "    km = KMeans(n_clusters = 10, random_state = 0)\n",
    "\n",
    "           KMeans(algorithm='auto', copy_x=True, init='k-means++', max_iter=300,\n",
    "                    n_clusters=10, n_init=10, n_jobs=1, precompute_distances='auto',\n",
    "                    random_state=0, tol=0.0001, verbose=0)\n",
    "                    \n",
    "\n",
    "    km.fit(x)\n",
    "    pr = km.predict(x)\n"
   ]
  },
  {
   "cell_type": "code",
   "execution_count": null,
   "metadata": {},
   "outputs": [],
   "source": []
  },
  {
   "cell_type": "markdown",
   "metadata": {},
   "source": [
    "##  All Hyper Parameter"
   ]
  },
  {
   "cell_type": "markdown",
   "metadata": {},
   "source": [
    "![drawing](40_2.jpg )\n",
    "40_2"
   ]
  },
  {
   "cell_type": "markdown",
   "metadata": {},
   "source": []
  },
  {
   "cell_type": "markdown",
   "metadata": {},
   "source": []
  },
  {
   "cell_type": "markdown",
   "metadata": {},
   "source": []
  },
  {
   "cell_type": "markdown",
   "metadata": {},
   "source": []
  },
  {
   "cell_type": "markdown",
   "metadata": {},
   "source": []
  },
  {
   "cell_type": "markdown",
   "metadata": {},
   "source": []
  },
  {
   "cell_type": "code",
   "execution_count": null,
   "metadata": {},
   "outputs": [],
   "source": []
  }
 ],
 "metadata": {
  "kernelspec": {
   "display_name": "Python 3",
   "language": "python",
   "name": "python3"
  },
  "language_info": {
   "codemirror_mode": {
    "name": "ipython",
    "version": 3
   },
   "file_extension": ".py",
   "mimetype": "text/x-python",
   "name": "python",
   "nbconvert_exporter": "python",
   "pygments_lexer": "ipython3",
   "version": "3.7.1"
  }
 },
 "nbformat": 4,
 "nbformat_minor": 2
}
